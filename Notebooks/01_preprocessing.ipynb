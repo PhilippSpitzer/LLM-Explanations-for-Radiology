{
 "cells": [
  {
   "cell_type": "code",
   "execution_count": 1,
   "metadata": {},
   "outputs": [],
   "source": [
    "import pandas as pd \n",
    "from utils import *"
   ]
  },
  {
   "cell_type": "code",
   "execution_count": 2,
   "metadata": {},
   "outputs": [],
   "source": [
    "RUN_GPT_EVAL = False"
   ]
  },
  {
   "cell_type": "markdown",
   "metadata": {},
   "source": [
    "# Filterting"
   ]
  },
  {
   "cell_type": "code",
   "execution_count": 3,
   "metadata": {},
   "outputs": [
    {
     "name": "stderr",
     "output_type": "stream",
     "text": [
      "/Users/danielhendriks/miniforge3/envs/llms-in-medicine/lib/python3.11/site-packages/openpyxl/styles/stylesheet.py:237: UserWarning: Workbook contains no default style, apply openpyxl's default\n",
      "  warn(\"Workbook contains no default style, apply openpyxl's default\")\n"
     ]
    }
   ],
   "source": [
    "fn = '../Data/raw_data.xlsx'\n",
    "df = pd.read_excel(fn, skiprows=[1])"
   ]
  },
  {
   "cell_type": "code",
   "execution_count": 4,
   "metadata": {},
   "outputs": [
    {
     "data": {
      "text/plain": [
       "(159, 599)"
      ]
     },
     "execution_count": 4,
     "metadata": {},
     "output_type": "execute_result"
    }
   ],
   "source": [
    "# Ignore test data, study launched at 21-11-2024\n",
    "df = df[df['StartDate'] > pd.to_datetime('2024-11-21 00:00:00')]\n",
    "df.shape"
   ]
  },
  {
   "cell_type": "code",
   "execution_count": 5,
   "metadata": {},
   "outputs": [],
   "source": [
    "# consent provided, 1 = Yes\n",
    "df = df[df.Q3 == 1]"
   ]
  },
  {
   "cell_type": "code",
   "execution_count": 6,
   "metadata": {},
   "outputs": [
    {
     "name": "stdout",
     "output_type": "stream",
     "text": [
      "Samples before dropping: 156\n",
      "Samples that did not finish:  42\n",
      "Samples after dropping: 114\n"
     ]
    }
   ],
   "source": [
    "# include participants that finished the study\n",
    "print('Samples before dropping:', df.shape[0])\n",
    "c = df.Finished == 0\n",
    "print('Samples that did not finish: ', (c).sum())\n",
    "\n",
    "df = df[~c]\n",
    "print('Samples after dropping:', df.shape[0])"
   ]
  },
  {
   "cell_type": "code",
   "execution_count": 7,
   "metadata": {},
   "outputs": [
    {
     "name": "stdout",
     "output_type": "stream",
     "text": [
      "Samples before dropping: 114\n",
      "Samples without condition:  0\n",
      "Samples after dropping: 114\n"
     ]
    }
   ],
   "source": [
    "# assert that all included participants have a condition assigned to them\n",
    "print('Samples before dropping:', df.shape[0])\n",
    "c = pd.isna(df.condition)\n",
    "print('Samples without condition: ', (c).sum())\n",
    "\n",
    "df = df[~c]\n",
    "print('Samples after dropping:', df.shape[0])"
   ]
  },
  {
   "cell_type": "code",
   "execution_count": 8,
   "metadata": {},
   "outputs": [
    {
     "name": "stdout",
     "output_type": "stream",
     "text": [
      "Samples before dropping: 114\n",
      "Samples failing attention check:  11\n",
      "Samples after dropping: 103\n"
     ]
    }
   ],
   "source": [
    "# exclude participants that failed the attention check\n",
    "# for the control group, no attention check was displayed, hence the value is Nan\n",
    "attention_check = pd.isna(df['Q19_7']) | (df['Q19_7'] == 5)\n",
    "\n",
    "print('Samples before dropping:', df.shape[0])\n",
    "print('Samples failing attention check: ', (~attention_check).sum())\n",
    "\n",
    "df = df[attention_check]\n",
    "print('Samples after dropping:', df.shape[0])"
   ]
  },
  {
   "cell_type": "code",
   "execution_count": 9,
   "metadata": {},
   "outputs": [
    {
     "name": "stdout",
     "output_type": "stream",
     "text": [
      "Duplicates: 2\n"
     ]
    }
   ],
   "source": [
    "# Exclude duplicates\n",
    "print(\"Duplicates:\", df.ui.duplicated().sum())\n",
    "df = df[~df.ui.duplicated()]"
   ]
  },
  {
   "cell_type": "code",
   "execution_count": 10,
   "metadata": {},
   "outputs": [
    {
     "data": {
      "text/plain": [
       "(101, 599)"
      ]
     },
     "execution_count": 10,
     "metadata": {},
     "output_type": "execute_result"
    }
   ],
   "source": [
    "# Filtered dataset includes 101 participants\n",
    "df.shape"
   ]
  },
  {
   "cell_type": "code",
   "execution_count": 11,
   "metadata": {},
   "outputs": [],
   "source": [
    "cols_con = [col for col in df.columns if col.startswith('q_control')]\n",
    "cols_std = [col for col in df.columns if col.startswith('q_standard')]\n",
    "cols_cot = [col for col in df.columns if col.startswith('q_cot')]\n",
    "cols_dif = [col for col in df.columns if col.startswith('q_dd')]"
   ]
  },
  {
   "cell_type": "markdown",
   "metadata": {},
   "source": [
    "# Prepare dataframe"
   ]
  },
  {
   "cell_type": "code",
   "execution_count": 12,
   "metadata": {},
   "outputs": [],
   "source": [
    "# turn df into long form \n",
    "df_long = pd.melt(df, id_vars=['ResponseId', 'condition'], \n",
    "        value_vars=cols_con+cols_std+cols_cot+cols_dif,\n",
    "        var_name='question', value_name='answer') \\\n",
    "    .dropna(axis=0, subset='answer')\n",
    "    \n",
    "# preprocessing: strip and lower \n",
    "df_long['answer'] = df_long.answer.str.strip().str.lower()"
   ]
  },
  {
   "cell_type": "code",
   "execution_count": 13,
   "metadata": {},
   "outputs": [
    {
     "data": {
      "text/html": [
       "<div>\n",
       "<style scoped>\n",
       "    .dataframe tbody tr th:only-of-type {\n",
       "        vertical-align: middle;\n",
       "    }\n",
       "\n",
       "    .dataframe tbody tr th {\n",
       "        vertical-align: top;\n",
       "    }\n",
       "\n",
       "    .dataframe thead th {\n",
       "        text-align: right;\n",
       "    }\n",
       "</style>\n",
       "<table border=\"1\" class=\"dataframe\">\n",
       "  <thead>\n",
       "    <tr style=\"text-align: right;\">\n",
       "      <th></th>\n",
       "      <th>ResponseId</th>\n",
       "      <th>condition</th>\n",
       "      <th>question</th>\n",
       "      <th>answer</th>\n",
       "    </tr>\n",
       "  </thead>\n",
       "  <tbody>\n",
       "    <tr>\n",
       "      <th>1</th>\n",
       "      <td>R_7Bl1xOlCKLlDuUk</td>\n",
       "      <td>1.0</td>\n",
       "      <td>question_1</td>\n",
       "      <td>intussesseption</td>\n",
       "    </tr>\n",
       "    <tr>\n",
       "      <th>5</th>\n",
       "      <td>R_3L27f1b3klEk0fL</td>\n",
       "      <td>1.0</td>\n",
       "      <td>question_1</td>\n",
       "      <td>intussusception</td>\n",
       "    </tr>\n",
       "    <tr>\n",
       "      <th>6</th>\n",
       "      <td>R_6jkMqDRXLPUtGyd</td>\n",
       "      <td>1.0</td>\n",
       "      <td>question_1</td>\n",
       "      <td>intussusseption</td>\n",
       "    </tr>\n",
       "  </tbody>\n",
       "</table>\n",
       "</div>"
      ],
      "text/plain": [
       "          ResponseId  condition    question           answer\n",
       "1  R_7Bl1xOlCKLlDuUk        1.0  question_1  intussesseption\n",
       "5  R_3L27f1b3klEk0fL        1.0  question_1  intussusception\n",
       "6  R_6jkMqDRXLPUtGyd        1.0  question_1  intussusseption"
      ]
     },
     "execution_count": 13,
     "metadata": {},
     "output_type": "execute_result"
    }
   ],
   "source": [
    "# extract question_n to merge df's\n",
    "def map_question(q):\n",
    "    if 'control' in q: return f\"question_{q.split('control')[-1]}\"\n",
    "    elif 'standard' in q: return f'question_{q.split(\"standard\")[-1]}'\n",
    "    elif 'cot' in q: return f'question_{q.split(\"cot\")[-1]}'\n",
    "    elif 'dd' in q: return f'question_{q.split(\"dd\")[-1]}'\n",
    "    else: raise ValueError\n",
    "    \n",
    "df_long['question'] = df_long.question.map(map_question)\n",
    "df_long.head(3)"
   ]
  },
  {
   "cell_type": "markdown",
   "metadata": {},
   "source": [
    "# Map judegment from GPT-4 and radiologists"
   ]
  },
  {
   "cell_type": "code",
   "execution_count": 14,
   "metadata": {},
   "outputs": [],
   "source": [
    "fn = '../data/judgement_rad.xlsx'\n",
    "df_map_rad = pd.read_excel(fn,usecols=['question','answer','judgement radiologist','ground_truth'])\n",
    "df_map_rad = df_map_rad.rename({'judgement radiologist': 'judgement'},axis=1)\n",
    "df_map_rad['answer'] = df_map_rad['answer'].astype(str)\n",
    "df_map_rad['judgement'] = df_map_rad.judgement.str.capitalize()\n"
   ]
  },
  {
   "cell_type": "code",
   "execution_count": 15,
   "metadata": {},
   "outputs": [
    {
     "data": {
      "text/plain": [
       "judgement\n",
       "Yes        423\n",
       "No         336\n",
       "Partial     53\n",
       "Name: count, dtype: int64"
      ]
     },
     "execution_count": 15,
     "metadata": {},
     "output_type": "execute_result"
    }
   ],
   "source": [
    "df_map_rad.judgement.value_counts(dropna=False)"
   ]
  },
  {
   "cell_type": "code",
   "execution_count": 16,
   "metadata": {},
   "outputs": [],
   "source": [
    "# merge df in long format with evals from radiologists (rad) and then with evals from gpt\n",
    "# finally, merge with additional data from df such as times and other constructs' data\n",
    "df_eval = pd.merge(left=df_long, right=df_map_rad,on=['question', 'answer'], \n",
    "                       how='left',validate='many_to_one')\n"
   ]
  },
  {
   "cell_type": "code",
   "execution_count": 17,
   "metadata": {},
   "outputs": [
    {
     "data": {
      "text/plain": [
       "judgement\n",
       "Yes        1341\n",
       "No          546\n",
       "Partial     133\n",
       "Name: count, dtype: int64"
      ]
     },
     "execution_count": 17,
     "metadata": {},
     "output_type": "execute_result"
    }
   ],
   "source": [
    "df_eval.judgement.value_counts(dropna=False)"
   ]
  },
  {
   "cell_type": "code",
   "execution_count": 18,
   "metadata": {},
   "outputs": [
    {
     "data": {
      "text/html": [
       "<div>\n",
       "<style scoped>\n",
       "    .dataframe tbody tr th:only-of-type {\n",
       "        vertical-align: middle;\n",
       "    }\n",
       "\n",
       "    .dataframe tbody tr th {\n",
       "        vertical-align: top;\n",
       "    }\n",
       "\n",
       "    .dataframe thead th {\n",
       "        text-align: right;\n",
       "    }\n",
       "</style>\n",
       "<table border=\"1\" class=\"dataframe\">\n",
       "  <thead>\n",
       "    <tr style=\"text-align: right;\">\n",
       "      <th></th>\n",
       "      <th>ResponseId</th>\n",
       "      <th>question</th>\n",
       "      <th>answer</th>\n",
       "      <th>ground_truth</th>\n",
       "      <th>judgement</th>\n",
       "      <th>StartDate</th>\n",
       "      <th>EndDate</th>\n",
       "      <th>Status</th>\n",
       "      <th>IPAddress</th>\n",
       "      <th>Progress</th>\n",
       "      <th>...</th>\n",
       "      <th>t_dd12</th>\n",
       "      <th>t_dd13</th>\n",
       "      <th>t_dd14</th>\n",
       "      <th>t_dd15</th>\n",
       "      <th>t_dd16</th>\n",
       "      <th>t_dd17</th>\n",
       "      <th>t_dd18</th>\n",
       "      <th>t_dd19</th>\n",
       "      <th>t_dd20</th>\n",
       "      <th>condition</th>\n",
       "    </tr>\n",
       "  </thead>\n",
       "  <tbody>\n",
       "    <tr>\n",
       "      <th>0</th>\n",
       "      <td>R_7Bl1xOlCKLlDuUk</td>\n",
       "      <td>question_1</td>\n",
       "      <td>intussesseption</td>\n",
       "      <td>Colocolonic intussusception</td>\n",
       "      <td>Partial</td>\n",
       "      <td>2024-11-21 12:45:03</td>\n",
       "      <td>2024-11-21 13:49:31</td>\n",
       "      <td>0</td>\n",
       "      <td>104.28.55.217</td>\n",
       "      <td>100</td>\n",
       "      <td>...</td>\n",
       "      <td>0.0</td>\n",
       "      <td>0.0</td>\n",
       "      <td>0.0</td>\n",
       "      <td>0.0</td>\n",
       "      <td>0.0</td>\n",
       "      <td>0.0</td>\n",
       "      <td>0.0</td>\n",
       "      <td>0.0</td>\n",
       "      <td>0.0</td>\n",
       "      <td>1.0</td>\n",
       "    </tr>\n",
       "    <tr>\n",
       "      <th>1</th>\n",
       "      <td>R_3L27f1b3klEk0fL</td>\n",
       "      <td>question_1</td>\n",
       "      <td>intussusception</td>\n",
       "      <td>Colocolonic intussusception</td>\n",
       "      <td>Partial</td>\n",
       "      <td>2024-11-21 15:37:29</td>\n",
       "      <td>2024-11-21 16:00:10</td>\n",
       "      <td>0</td>\n",
       "      <td>108.20.119.209</td>\n",
       "      <td>100</td>\n",
       "      <td>...</td>\n",
       "      <td>0.0</td>\n",
       "      <td>0.0</td>\n",
       "      <td>0.0</td>\n",
       "      <td>0.0</td>\n",
       "      <td>0.0</td>\n",
       "      <td>0.0</td>\n",
       "      <td>0.0</td>\n",
       "      <td>0.0</td>\n",
       "      <td>0.0</td>\n",
       "      <td>1.0</td>\n",
       "    </tr>\n",
       "    <tr>\n",
       "      <th>2</th>\n",
       "      <td>R_6jkMqDRXLPUtGyd</td>\n",
       "      <td>question_1</td>\n",
       "      <td>intussusseption</td>\n",
       "      <td>Colocolonic intussusception</td>\n",
       "      <td>Partial</td>\n",
       "      <td>2024-11-21 15:58:22</td>\n",
       "      <td>2024-11-21 16:26:07</td>\n",
       "      <td>0</td>\n",
       "      <td>12.48.162.126</td>\n",
       "      <td>100</td>\n",
       "      <td>...</td>\n",
       "      <td>0.0</td>\n",
       "      <td>0.0</td>\n",
       "      <td>0.0</td>\n",
       "      <td>0.0</td>\n",
       "      <td>0.0</td>\n",
       "      <td>0.0</td>\n",
       "      <td>0.0</td>\n",
       "      <td>0.0</td>\n",
       "      <td>0.0</td>\n",
       "      <td>1.0</td>\n",
       "    </tr>\n",
       "  </tbody>\n",
       "</table>\n",
       "<p>3 rows × 603 columns</p>\n",
       "</div>"
      ],
      "text/plain": [
       "          ResponseId    question           answer  \\\n",
       "0  R_7Bl1xOlCKLlDuUk  question_1  intussesseption   \n",
       "1  R_3L27f1b3klEk0fL  question_1  intussusception   \n",
       "2  R_6jkMqDRXLPUtGyd  question_1  intussusseption   \n",
       "\n",
       "                  ground_truth judgement           StartDate  \\\n",
       "0  Colocolonic intussusception   Partial 2024-11-21 12:45:03   \n",
       "1  Colocolonic intussusception   Partial 2024-11-21 15:37:29   \n",
       "2  Colocolonic intussusception   Partial 2024-11-21 15:58:22   \n",
       "\n",
       "              EndDate  Status       IPAddress  Progress  ...  t_dd12  t_dd13  \\\n",
       "0 2024-11-21 13:49:31       0   104.28.55.217       100  ...     0.0     0.0   \n",
       "1 2024-11-21 16:00:10       0  108.20.119.209       100  ...     0.0     0.0   \n",
       "2 2024-11-21 16:26:07       0   12.48.162.126       100  ...     0.0     0.0   \n",
       "\n",
       "  t_dd14  t_dd15  t_dd16  t_dd17  t_dd18  t_dd19  t_dd20 condition  \n",
       "0    0.0     0.0     0.0     0.0     0.0     0.0     0.0       1.0  \n",
       "1    0.0     0.0     0.0     0.0     0.0     0.0     0.0       1.0  \n",
       "2    0.0     0.0     0.0     0.0     0.0     0.0     0.0       1.0  \n",
       "\n",
       "[3 rows x 603 columns]"
      ]
     },
     "execution_count": 18,
     "metadata": {},
     "output_type": "execute_result"
    }
   ],
   "source": [
    "\n",
    "# df_eval = pd.merge(left=df_eval_rad, right=df_map_gpt,on=['question', 'answer'], \n",
    "#                    how='left',suffixes=('_rad','_gpt'),validate='many_to_one')\n",
    "\n",
    "df_eval = pd.merge(left=df_eval.drop('condition',axis=1), right=df, \n",
    "                   how='left',on=['ResponseId'],validate='many_to_one')\n",
    "\n",
    "df_eval.head(3)"
   ]
  },
  {
   "cell_type": "code",
   "execution_count": 19,
   "metadata": {},
   "outputs": [],
   "source": [
    "# preprocess columns with values for constructs like cognitive load\n",
    "cols = ['Q17_1','Q17_2','Q17_3','Q17_4','Q17_5']\n",
    "df_eval['cognitive-load'] = (df_eval[cols].sum(axis=1,skipna=False) - 5) / (35 - 5) * 100\n",
    "\n",
    "cols = ['Q19_1', 'Q19_2', 'Q19_3', 'Q19_4', 'Q19_5', 'Q19_6']\n",
    "df_eval['usefulness'] = (df_eval[cols].sum(axis=1,skipna=False) - 6) / (42 - 6) * 100\n",
    "\n",
    "cols = ['Q809_1', 'Q809_2', 'Q809_3', 'Q809_4', 'Q809_5', 'Q809_6']\n",
    "df_eval['ease-of-use'] = (df_eval[cols].sum(axis=1,skipna=False) - 6) / (42 - 6) * 100\n",
    "\n",
    "cols = ['Q21_1','Q21_2','Q21_3','Q21_4','Q21_5','Q21_6']\n",
    "df_eval['trust'] = (df_eval[cols].sum(axis=1,skipna=False) - 6) / (42 - 6) * 100"
   ]
  },
  {
   "cell_type": "code",
   "execution_count": 20,
   "metadata": {},
   "outputs": [
    {
     "data": {
      "text/plain": [
       "(2020, 607)"
      ]
     },
     "execution_count": 20,
     "metadata": {},
     "output_type": "execute_result"
    }
   ],
   "source": [
    "df_eval.shape"
   ]
  },
  {
   "cell_type": "code",
   "execution_count": 21,
   "metadata": {},
   "outputs": [],
   "source": [
    "df_eval.to_excel('../Data/data_evaluated.xlsx', index=False)"
   ]
  },
  {
   "cell_type": "code",
   "execution_count": 22,
   "metadata": {},
   "outputs": [
    {
     "data": {
      "text/html": [
       "<div>\n",
       "<style scoped>\n",
       "    .dataframe tbody tr th:only-of-type {\n",
       "        vertical-align: middle;\n",
       "    }\n",
       "\n",
       "    .dataframe tbody tr th {\n",
       "        vertical-align: top;\n",
       "    }\n",
       "\n",
       "    .dataframe thead th {\n",
       "        text-align: right;\n",
       "    }\n",
       "</style>\n",
       "<table border=\"1\" class=\"dataframe\">\n",
       "  <thead>\n",
       "    <tr style=\"text-align: right;\">\n",
       "      <th></th>\n",
       "      <th>ResponseId</th>\n",
       "      <th>question</th>\n",
       "      <th>answer</th>\n",
       "      <th>ground_truth</th>\n",
       "      <th>judgement</th>\n",
       "      <th>StartDate</th>\n",
       "      <th>EndDate</th>\n",
       "      <th>Status</th>\n",
       "      <th>IPAddress</th>\n",
       "      <th>Progress</th>\n",
       "      <th>...</th>\n",
       "      <th>t_dd16</th>\n",
       "      <th>t_dd17</th>\n",
       "      <th>t_dd18</th>\n",
       "      <th>t_dd19</th>\n",
       "      <th>t_dd20</th>\n",
       "      <th>condition</th>\n",
       "      <th>cognitive-load</th>\n",
       "      <th>usefulness</th>\n",
       "      <th>ease-of-use</th>\n",
       "      <th>trust</th>\n",
       "    </tr>\n",
       "  </thead>\n",
       "  <tbody>\n",
       "    <tr>\n",
       "      <th>0</th>\n",
       "      <td>R_7Bl1xOlCKLlDuUk</td>\n",
       "      <td>question_1</td>\n",
       "      <td>intussesseption</td>\n",
       "      <td>Colocolonic intussusception</td>\n",
       "      <td>Partial</td>\n",
       "      <td>2024-11-21 12:45:03</td>\n",
       "      <td>2024-11-21 13:49:31</td>\n",
       "      <td>0</td>\n",
       "      <td>104.28.55.217</td>\n",
       "      <td>100</td>\n",
       "      <td>...</td>\n",
       "      <td>0.0</td>\n",
       "      <td>0.0</td>\n",
       "      <td>0.0</td>\n",
       "      <td>0.0</td>\n",
       "      <td>0.0</td>\n",
       "      <td>1.0</td>\n",
       "      <td>40.000000</td>\n",
       "      <td>NaN</td>\n",
       "      <td>NaN</td>\n",
       "      <td>NaN</td>\n",
       "    </tr>\n",
       "    <tr>\n",
       "      <th>1</th>\n",
       "      <td>R_3L27f1b3klEk0fL</td>\n",
       "      <td>question_1</td>\n",
       "      <td>intussusception</td>\n",
       "      <td>Colocolonic intussusception</td>\n",
       "      <td>Partial</td>\n",
       "      <td>2024-11-21 15:37:29</td>\n",
       "      <td>2024-11-21 16:00:10</td>\n",
       "      <td>0</td>\n",
       "      <td>108.20.119.209</td>\n",
       "      <td>100</td>\n",
       "      <td>...</td>\n",
       "      <td>0.0</td>\n",
       "      <td>0.0</td>\n",
       "      <td>0.0</td>\n",
       "      <td>0.0</td>\n",
       "      <td>0.0</td>\n",
       "      <td>1.0</td>\n",
       "      <td>46.666667</td>\n",
       "      <td>NaN</td>\n",
       "      <td>NaN</td>\n",
       "      <td>NaN</td>\n",
       "    </tr>\n",
       "    <tr>\n",
       "      <th>2</th>\n",
       "      <td>R_6jkMqDRXLPUtGyd</td>\n",
       "      <td>question_1</td>\n",
       "      <td>intussusseption</td>\n",
       "      <td>Colocolonic intussusception</td>\n",
       "      <td>Partial</td>\n",
       "      <td>2024-11-21 15:58:22</td>\n",
       "      <td>2024-11-21 16:26:07</td>\n",
       "      <td>0</td>\n",
       "      <td>12.48.162.126</td>\n",
       "      <td>100</td>\n",
       "      <td>...</td>\n",
       "      <td>0.0</td>\n",
       "      <td>0.0</td>\n",
       "      <td>0.0</td>\n",
       "      <td>0.0</td>\n",
       "      <td>0.0</td>\n",
       "      <td>1.0</td>\n",
       "      <td>60.000000</td>\n",
       "      <td>NaN</td>\n",
       "      <td>NaN</td>\n",
       "      <td>NaN</td>\n",
       "    </tr>\n",
       "    <tr>\n",
       "      <th>3</th>\n",
       "      <td>R_3o5eW5zH6mVOqJt</td>\n",
       "      <td>question_1</td>\n",
       "      <td>intussuscpetion</td>\n",
       "      <td>Colocolonic intussusception</td>\n",
       "      <td>Partial</td>\n",
       "      <td>2024-11-21 16:37:23</td>\n",
       "      <td>2024-11-21 17:01:03</td>\n",
       "      <td>0</td>\n",
       "      <td>162.17.72.102</td>\n",
       "      <td>100</td>\n",
       "      <td>...</td>\n",
       "      <td>0.0</td>\n",
       "      <td>0.0</td>\n",
       "      <td>0.0</td>\n",
       "      <td>0.0</td>\n",
       "      <td>0.0</td>\n",
       "      <td>1.0</td>\n",
       "      <td>16.666667</td>\n",
       "      <td>NaN</td>\n",
       "      <td>NaN</td>\n",
       "      <td>NaN</td>\n",
       "    </tr>\n",
       "    <tr>\n",
       "      <th>4</th>\n",
       "      <td>R_3lBxjyrPfIoDrBD</td>\n",
       "      <td>question_1</td>\n",
       "      <td>intussusception</td>\n",
       "      <td>Colocolonic intussusception</td>\n",
       "      <td>Partial</td>\n",
       "      <td>2024-11-21 21:47:59</td>\n",
       "      <td>2024-11-21 22:06:10</td>\n",
       "      <td>0</td>\n",
       "      <td>146.75.222.0</td>\n",
       "      <td>100</td>\n",
       "      <td>...</td>\n",
       "      <td>0.0</td>\n",
       "      <td>0.0</td>\n",
       "      <td>0.0</td>\n",
       "      <td>0.0</td>\n",
       "      <td>0.0</td>\n",
       "      <td>1.0</td>\n",
       "      <td>20.000000</td>\n",
       "      <td>NaN</td>\n",
       "      <td>NaN</td>\n",
       "      <td>NaN</td>\n",
       "    </tr>\n",
       "    <tr>\n",
       "      <th>...</th>\n",
       "      <td>...</td>\n",
       "      <td>...</td>\n",
       "      <td>...</td>\n",
       "      <td>...</td>\n",
       "      <td>...</td>\n",
       "      <td>...</td>\n",
       "      <td>...</td>\n",
       "      <td>...</td>\n",
       "      <td>...</td>\n",
       "      <td>...</td>\n",
       "      <td>...</td>\n",
       "      <td>...</td>\n",
       "      <td>...</td>\n",
       "      <td>...</td>\n",
       "      <td>...</td>\n",
       "      <td>...</td>\n",
       "      <td>...</td>\n",
       "      <td>...</td>\n",
       "      <td>...</td>\n",
       "      <td>...</td>\n",
       "      <td>...</td>\n",
       "    </tr>\n",
       "    <tr>\n",
       "      <th>2015</th>\n",
       "      <td>R_747WuS5rSwsR7Xj</td>\n",
       "      <td>question_20</td>\n",
       "      <td>neurocysticercosis</td>\n",
       "      <td>Neurocysticercosis</td>\n",
       "      <td>Yes</td>\n",
       "      <td>2024-11-28 20:03:49</td>\n",
       "      <td>2024-11-28 20:29:12</td>\n",
       "      <td>0</td>\n",
       "      <td>184.99.22.107</td>\n",
       "      <td>100</td>\n",
       "      <td>...</td>\n",
       "      <td>16440.0</td>\n",
       "      <td>14016.0</td>\n",
       "      <td>14856.0</td>\n",
       "      <td>93275.0</td>\n",
       "      <td>15705.0</td>\n",
       "      <td>4.0</td>\n",
       "      <td>50.000000</td>\n",
       "      <td>80.555556</td>\n",
       "      <td>83.333333</td>\n",
       "      <td>47.222222</td>\n",
       "    </tr>\n",
       "    <tr>\n",
       "      <th>2016</th>\n",
       "      <td>R_72EBK9amk6ack3p</td>\n",
       "      <td>question_20</td>\n",
       "      <td>neurocysticercosis</td>\n",
       "      <td>Neurocysticercosis</td>\n",
       "      <td>Yes</td>\n",
       "      <td>2024-11-28 22:32:55</td>\n",
       "      <td>2024-11-28 22:45:22</td>\n",
       "      <td>0</td>\n",
       "      <td>73.71.168.243</td>\n",
       "      <td>100</td>\n",
       "      <td>...</td>\n",
       "      <td>21775.0</td>\n",
       "      <td>9902.0</td>\n",
       "      <td>6152.0</td>\n",
       "      <td>22784.0</td>\n",
       "      <td>17982.0</td>\n",
       "      <td>4.0</td>\n",
       "      <td>56.666667</td>\n",
       "      <td>83.333333</td>\n",
       "      <td>72.222222</td>\n",
       "      <td>61.111111</td>\n",
       "    </tr>\n",
       "    <tr>\n",
       "      <th>2017</th>\n",
       "      <td>R_1hRvBHltOuR13y4</td>\n",
       "      <td>question_20</td>\n",
       "      <td>neurocysticercosis</td>\n",
       "      <td>Neurocysticercosis</td>\n",
       "      <td>Yes</td>\n",
       "      <td>2024-11-28 22:37:49</td>\n",
       "      <td>2024-11-28 22:58:58</td>\n",
       "      <td>0</td>\n",
       "      <td>69.116.137.206</td>\n",
       "      <td>100</td>\n",
       "      <td>...</td>\n",
       "      <td>41785.0</td>\n",
       "      <td>62164.0</td>\n",
       "      <td>55346.0</td>\n",
       "      <td>38689.0</td>\n",
       "      <td>53077.0</td>\n",
       "      <td>4.0</td>\n",
       "      <td>26.666667</td>\n",
       "      <td>75.000000</td>\n",
       "      <td>63.888889</td>\n",
       "      <td>52.777778</td>\n",
       "    </tr>\n",
       "    <tr>\n",
       "      <th>2018</th>\n",
       "      <td>R_59EUTcxWBa4nq2B</td>\n",
       "      <td>question_20</td>\n",
       "      <td>neurocysticercosis</td>\n",
       "      <td>Neurocysticercosis</td>\n",
       "      <td>Yes</td>\n",
       "      <td>2024-11-29 17:42:08</td>\n",
       "      <td>2024-11-29 18:18:26</td>\n",
       "      <td>0</td>\n",
       "      <td>174.201.16.183</td>\n",
       "      <td>100</td>\n",
       "      <td>...</td>\n",
       "      <td>11165.0</td>\n",
       "      <td>27321.0</td>\n",
       "      <td>15145.0</td>\n",
       "      <td>59954.0</td>\n",
       "      <td>21927.0</td>\n",
       "      <td>4.0</td>\n",
       "      <td>43.333333</td>\n",
       "      <td>66.666667</td>\n",
       "      <td>63.888889</td>\n",
       "      <td>50.000000</td>\n",
       "    </tr>\n",
       "    <tr>\n",
       "      <th>2019</th>\n",
       "      <td>R_3fZ7ccU45hku0Fs</td>\n",
       "      <td>question_20</td>\n",
       "      <td>neurocysticercosis</td>\n",
       "      <td>Neurocysticercosis</td>\n",
       "      <td>Yes</td>\n",
       "      <td>2024-12-01 05:14:47</td>\n",
       "      <td>2024-12-01 05:46:42</td>\n",
       "      <td>0</td>\n",
       "      <td>174.22.124.54</td>\n",
       "      <td>100</td>\n",
       "      <td>...</td>\n",
       "      <td>13193.0</td>\n",
       "      <td>13480.0</td>\n",
       "      <td>10748.0</td>\n",
       "      <td>33457.0</td>\n",
       "      <td>34056.0</td>\n",
       "      <td>4.0</td>\n",
       "      <td>50.000000</td>\n",
       "      <td>83.333333</td>\n",
       "      <td>61.111111</td>\n",
       "      <td>41.666667</td>\n",
       "    </tr>\n",
       "  </tbody>\n",
       "</table>\n",
       "<p>2020 rows × 607 columns</p>\n",
       "</div>"
      ],
      "text/plain": [
       "             ResponseId     question              answer  \\\n",
       "0     R_7Bl1xOlCKLlDuUk   question_1     intussesseption   \n",
       "1     R_3L27f1b3klEk0fL   question_1     intussusception   \n",
       "2     R_6jkMqDRXLPUtGyd   question_1     intussusseption   \n",
       "3     R_3o5eW5zH6mVOqJt   question_1     intussuscpetion   \n",
       "4     R_3lBxjyrPfIoDrBD   question_1     intussusception   \n",
       "...                 ...          ...                 ...   \n",
       "2015  R_747WuS5rSwsR7Xj  question_20  neurocysticercosis   \n",
       "2016  R_72EBK9amk6ack3p  question_20  neurocysticercosis   \n",
       "2017  R_1hRvBHltOuR13y4  question_20  neurocysticercosis   \n",
       "2018  R_59EUTcxWBa4nq2B  question_20  neurocysticercosis   \n",
       "2019  R_3fZ7ccU45hku0Fs  question_20  neurocysticercosis   \n",
       "\n",
       "                     ground_truth judgement           StartDate  \\\n",
       "0     Colocolonic intussusception   Partial 2024-11-21 12:45:03   \n",
       "1     Colocolonic intussusception   Partial 2024-11-21 15:37:29   \n",
       "2     Colocolonic intussusception   Partial 2024-11-21 15:58:22   \n",
       "3     Colocolonic intussusception   Partial 2024-11-21 16:37:23   \n",
       "4     Colocolonic intussusception   Partial 2024-11-21 21:47:59   \n",
       "...                           ...       ...                 ...   \n",
       "2015           Neurocysticercosis       Yes 2024-11-28 20:03:49   \n",
       "2016           Neurocysticercosis       Yes 2024-11-28 22:32:55   \n",
       "2017           Neurocysticercosis       Yes 2024-11-28 22:37:49   \n",
       "2018           Neurocysticercosis       Yes 2024-11-29 17:42:08   \n",
       "2019           Neurocysticercosis       Yes 2024-12-01 05:14:47   \n",
       "\n",
       "                 EndDate  Status       IPAddress  Progress  ...   t_dd16  \\\n",
       "0    2024-11-21 13:49:31       0   104.28.55.217       100  ...      0.0   \n",
       "1    2024-11-21 16:00:10       0  108.20.119.209       100  ...      0.0   \n",
       "2    2024-11-21 16:26:07       0   12.48.162.126       100  ...      0.0   \n",
       "3    2024-11-21 17:01:03       0   162.17.72.102       100  ...      0.0   \n",
       "4    2024-11-21 22:06:10       0    146.75.222.0       100  ...      0.0   \n",
       "...                  ...     ...             ...       ...  ...      ...   \n",
       "2015 2024-11-28 20:29:12       0   184.99.22.107       100  ...  16440.0   \n",
       "2016 2024-11-28 22:45:22       0   73.71.168.243       100  ...  21775.0   \n",
       "2017 2024-11-28 22:58:58       0  69.116.137.206       100  ...  41785.0   \n",
       "2018 2024-11-29 18:18:26       0  174.201.16.183       100  ...  11165.0   \n",
       "2019 2024-12-01 05:46:42       0   174.22.124.54       100  ...  13193.0   \n",
       "\n",
       "       t_dd17   t_dd18   t_dd19   t_dd20  condition  cognitive-load  \\\n",
       "0         0.0      0.0      0.0      0.0        1.0       40.000000   \n",
       "1         0.0      0.0      0.0      0.0        1.0       46.666667   \n",
       "2         0.0      0.0      0.0      0.0        1.0       60.000000   \n",
       "3         0.0      0.0      0.0      0.0        1.0       16.666667   \n",
       "4         0.0      0.0      0.0      0.0        1.0       20.000000   \n",
       "...       ...      ...      ...      ...        ...             ...   \n",
       "2015  14016.0  14856.0  93275.0  15705.0        4.0       50.000000   \n",
       "2016   9902.0   6152.0  22784.0  17982.0        4.0       56.666667   \n",
       "2017  62164.0  55346.0  38689.0  53077.0        4.0       26.666667   \n",
       "2018  27321.0  15145.0  59954.0  21927.0        4.0       43.333333   \n",
       "2019  13480.0  10748.0  33457.0  34056.0        4.0       50.000000   \n",
       "\n",
       "      usefulness  ease-of-use      trust  \n",
       "0            NaN          NaN        NaN  \n",
       "1            NaN          NaN        NaN  \n",
       "2            NaN          NaN        NaN  \n",
       "3            NaN          NaN        NaN  \n",
       "4            NaN          NaN        NaN  \n",
       "...          ...          ...        ...  \n",
       "2015   80.555556    83.333333  47.222222  \n",
       "2016   83.333333    72.222222  61.111111  \n",
       "2017   75.000000    63.888889  52.777778  \n",
       "2018   66.666667    63.888889  50.000000  \n",
       "2019   83.333333    61.111111  41.666667  \n",
       "\n",
       "[2020 rows x 607 columns]"
      ]
     },
     "execution_count": 22,
     "metadata": {},
     "output_type": "execute_result"
    }
   ],
   "source": [
    "df_eval"
   ]
  },
  {
   "cell_type": "code",
   "execution_count": null,
   "metadata": {},
   "outputs": [],
   "source": []
  }
 ],
 "metadata": {
  "kernelspec": {
   "display_name": "llms-in-medicine",
   "language": "python",
   "name": "python3"
  },
  "language_info": {
   "codemirror_mode": {
    "name": "ipython",
    "version": 3
   },
   "file_extension": ".py",
   "mimetype": "text/x-python",
   "name": "python",
   "nbconvert_exporter": "python",
   "pygments_lexer": "ipython3",
   "version": "3.11.11"
  }
 },
 "nbformat": 4,
 "nbformat_minor": 2
}
